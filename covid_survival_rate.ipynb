{
  "cells": [
    {
      "cell_type": "markdown",
      "metadata": {
        "id": "9IXd3CbY2mgC"
      },
      "source": [
        "TOPIC:\n",
        "- COVID-19 CT Severity Score\n",
        "- Predicting patient survival based on CT severity score\n",
        "- Classifying whether the person will survive or not"
      ]
    },
    {
      "cell_type": "markdown",
      "metadata": {
        "id": "NexwQFzEjaB3"
      },
      "source": [
        "\n",
        "- LINEAR REGRESSION\n",
        "- LOGISTIC REGRESSION\n",
        "- KNN CLASSIFIER\n",
        "- GAUSSIAN NB CLASSIFIER\n",
        "- DECISION TREE CLASSIFIER\n",
        "- LINEAR SUPPORT VECTOR CLASSIFER\n",
        "\n",
        "\n",
        "\n"
      ]
    },
    {
      "cell_type": "code",
      "execution_count": null,
      "metadata": {
        "id": "mVDIxlZQP0gB"
      },
      "outputs": [],
      "source": [
        "#importing the relevant libraries\n",
        "import pandas as pd\n",
        "import numpy as np\n",
        "import matplotlib.pyplot as plt\n",
        "import seaborn as sns\n",
        "from sklearn.linear_model import LinearRegression, LogisticRegression\n",
        "from sklearn.neighbors import KNeighborsClassifier\n",
        "from sklearn.svm import SVC\n",
        "from sklearn.naive_bayes import GaussianNB\n",
        "from sklearn.tree import DecisionTreeClassifier\n",
        "from sklearn import metrics\n",
        "from sklearn.preprocessing import StandardScaler\n",
        "from sklearn.model_selection import train_test_split\n",
        "import statsmodels.api as sm\n",
        "import warnings\n",
        "warnings.filterwarnings('ignore')"
      ]
    },
    {
      "cell_type": "code",
      "execution_count": null,
      "metadata": {
        "colab": {
          "base_uri": "https://localhost:8080/",
          "height": 206
        },
        "id": "IewGFuQDQNl0",
        "outputId": "540943c1-50f6-45bb-adcd-c9e8c58c1ffe"
      },
      "outputs": [
        {
          "data": {
            "text/html": [
              "\n",
              "  <div id=\"df-04c8052a-4937-45be-a998-c06a8d1c822f\">\n",
              "    <div class=\"colab-df-container\">\n",
              "      <div>\n",
              "<style scoped>\n",
              "    .dataframe tbody tr th:only-of-type {\n",
              "        vertical-align: middle;\n",
              "    }\n",
              "\n",
              "    .dataframe tbody tr th {\n",
              "        vertical-align: top;\n",
              "    }\n",
              "\n",
              "    .dataframe thead th {\n",
              "        text-align: right;\n",
              "    }\n",
              "</style>\n",
              "<table border=\"1\" class=\"dataframe\">\n",
              "  <thead>\n",
              "    <tr style=\"text-align: right;\">\n",
              "      <th></th>\n",
              "      <th>Unnamed: 0</th>\n",
              "      <th>Age</th>\n",
              "      <th>Gender</th>\n",
              "      <th>GGO</th>\n",
              "      <th>Consolidation</th>\n",
              "      <th>Crazy_paving</th>\n",
              "      <th>CT_severity</th>\n",
              "      <th>Survival</th>\n",
              "    </tr>\n",
              "  </thead>\n",
              "  <tbody>\n",
              "    <tr>\n",
              "      <th>0</th>\n",
              "      <td>0</td>\n",
              "      <td>45</td>\n",
              "      <td>1</td>\n",
              "      <td>1</td>\n",
              "      <td>1</td>\n",
              "      <td>1</td>\n",
              "      <td>24</td>\n",
              "      <td>1</td>\n",
              "    </tr>\n",
              "    <tr>\n",
              "      <th>1</th>\n",
              "      <td>1</td>\n",
              "      <td>59</td>\n",
              "      <td>1</td>\n",
              "      <td>1</td>\n",
              "      <td>1</td>\n",
              "      <td>0</td>\n",
              "      <td>23</td>\n",
              "      <td>1</td>\n",
              "    </tr>\n",
              "    <tr>\n",
              "      <th>2</th>\n",
              "      <td>2</td>\n",
              "      <td>67</td>\n",
              "      <td>0</td>\n",
              "      <td>1</td>\n",
              "      <td>1</td>\n",
              "      <td>1</td>\n",
              "      <td>23</td>\n",
              "      <td>1</td>\n",
              "    </tr>\n",
              "    <tr>\n",
              "      <th>3</th>\n",
              "      <td>3</td>\n",
              "      <td>30</td>\n",
              "      <td>0</td>\n",
              "      <td>1</td>\n",
              "      <td>1</td>\n",
              "      <td>1</td>\n",
              "      <td>22</td>\n",
              "      <td>1</td>\n",
              "    </tr>\n",
              "    <tr>\n",
              "      <th>4</th>\n",
              "      <td>4</td>\n",
              "      <td>42</td>\n",
              "      <td>1</td>\n",
              "      <td>1</td>\n",
              "      <td>1</td>\n",
              "      <td>0</td>\n",
              "      <td>21</td>\n",
              "      <td>1</td>\n",
              "    </tr>\n",
              "  </tbody>\n",
              "</table>\n",
              "</div>\n",
              "      <button class=\"colab-df-convert\" onclick=\"convertToInteractive('df-04c8052a-4937-45be-a998-c06a8d1c822f')\"\n",
              "              title=\"Convert this dataframe to an interactive table.\"\n",
              "              style=\"display:none;\">\n",
              "        \n",
              "  <svg xmlns=\"http://www.w3.org/2000/svg\" height=\"24px\"viewBox=\"0 0 24 24\"\n",
              "       width=\"24px\">\n",
              "    <path d=\"M0 0h24v24H0V0z\" fill=\"none\"/>\n",
              "    <path d=\"M18.56 5.44l.94 2.06.94-2.06 2.06-.94-2.06-.94-.94-2.06-.94 2.06-2.06.94zm-11 1L8.5 8.5l.94-2.06 2.06-.94-2.06-.94L8.5 2.5l-.94 2.06-2.06.94zm10 10l.94 2.06.94-2.06 2.06-.94-2.06-.94-.94-2.06-.94 2.06-2.06.94z\"/><path d=\"M17.41 7.96l-1.37-1.37c-.4-.4-.92-.59-1.43-.59-.52 0-1.04.2-1.43.59L10.3 9.45l-7.72 7.72c-.78.78-.78 2.05 0 2.83L4 21.41c.39.39.9.59 1.41.59.51 0 1.02-.2 1.41-.59l7.78-7.78 2.81-2.81c.8-.78.8-2.07 0-2.86zM5.41 20L4 18.59l7.72-7.72 1.47 1.35L5.41 20z\"/>\n",
              "  </svg>\n",
              "      </button>\n",
              "      \n",
              "  <style>\n",
              "    .colab-df-container {\n",
              "      display:flex;\n",
              "      flex-wrap:wrap;\n",
              "      gap: 12px;\n",
              "    }\n",
              "\n",
              "    .colab-df-convert {\n",
              "      background-color: #E8F0FE;\n",
              "      border: none;\n",
              "      border-radius: 50%;\n",
              "      cursor: pointer;\n",
              "      display: none;\n",
              "      fill: #1967D2;\n",
              "      height: 32px;\n",
              "      padding: 0 0 0 0;\n",
              "      width: 32px;\n",
              "    }\n",
              "\n",
              "    .colab-df-convert:hover {\n",
              "      background-color: #E2EBFA;\n",
              "      box-shadow: 0px 1px 2px rgba(60, 64, 67, 0.3), 0px 1px 3px 1px rgba(60, 64, 67, 0.15);\n",
              "      fill: #174EA6;\n",
              "    }\n",
              "\n",
              "    [theme=dark] .colab-df-convert {\n",
              "      background-color: #3B4455;\n",
              "      fill: #D2E3FC;\n",
              "    }\n",
              "\n",
              "    [theme=dark] .colab-df-convert:hover {\n",
              "      background-color: #434B5C;\n",
              "      box-shadow: 0px 1px 3px 1px rgba(0, 0, 0, 0.15);\n",
              "      filter: drop-shadow(0px 1px 2px rgba(0, 0, 0, 0.3));\n",
              "      fill: #FFFFFF;\n",
              "    }\n",
              "  </style>\n",
              "\n",
              "      <script>\n",
              "        const buttonEl =\n",
              "          document.querySelector('#df-04c8052a-4937-45be-a998-c06a8d1c822f button.colab-df-convert');\n",
              "        buttonEl.style.display =\n",
              "          google.colab.kernel.accessAllowed ? 'block' : 'none';\n",
              "\n",
              "        async function convertToInteractive(key) {\n",
              "          const element = document.querySelector('#df-04c8052a-4937-45be-a998-c06a8d1c822f');\n",
              "          const dataTable =\n",
              "            await google.colab.kernel.invokeFunction('convertToInteractive',\n",
              "                                                     [key], {});\n",
              "          if (!dataTable) return;\n",
              "\n",
              "          const docLinkHtml = 'Like what you see? Visit the ' +\n",
              "            '<a target=\"_blank\" href=https://colab.research.google.com/notebooks/data_table.ipynb>data table notebook</a>'\n",
              "            + ' to learn more about interactive tables.';\n",
              "          element.innerHTML = '';\n",
              "          dataTable['output_type'] = 'display_data';\n",
              "          await google.colab.output.renderOutput(dataTable, element);\n",
              "          const docLink = document.createElement('div');\n",
              "          docLink.innerHTML = docLinkHtml;\n",
              "          element.appendChild(docLink);\n",
              "        }\n",
              "      </script>\n",
              "    </div>\n",
              "  </div>\n",
              "  "
            ],
            "text/plain": [
              "   Unnamed: 0  Age  Gender  GGO  Consolidation  Crazy_paving  CT_severity  \\\n",
              "0           0   45       1    1              1             1           24   \n",
              "1           1   59       1    1              1             0           23   \n",
              "2           2   67       0    1              1             1           23   \n",
              "3           3   30       0    1              1             1           22   \n",
              "4           4   42       1    1              1             0           21   \n",
              "\n",
              "   Survival  \n",
              "0         1  \n",
              "1         1  \n",
              "2         1  \n",
              "3         1  \n",
              "4         1  "
            ]
          },
          "execution_count": 54,
          "metadata": {},
          "output_type": "execute_result"
        }
      ],
      "source": [
        "df = pd.read_csv(\"/content/ct.csv\") #to read the dataset\n",
        "df.head() #to print the dataset"
      ]
    },
    {
      "cell_type": "markdown",
      "metadata": {
        "id": "94JPZU7G2gbh"
      },
      "source": [
        "Dataset Link: https://www.kaggle.com/mohamedabdeltawab86/covid19-ct-severity-score"
      ]
    },
    {
      "cell_type": "code",
      "execution_count": null,
      "metadata": {
        "id": "5xUfa7xyRtJ4"
      },
      "outputs": [],
      "source": [
        "#drop the unnamed 0; axis=1 means dropping the column;\n",
        "#inplace = True performs operation on data and nothing is returned whereas inplace=False performs operation on data and returns a new copy of data\n",
        "df.drop('Unnamed: 0', inplace=True, axis=1)\n"
      ]
    },
    {
      "cell_type": "code",
      "execution_count": null,
      "metadata": {
        "colab": {
          "base_uri": "https://localhost:8080/",
          "height": 300
        },
        "id": "HYDXH0WJUdyT",
        "outputId": "d1ff07d3-77ae-4b1e-e54b-52c702185eea"
      },
      "outputs": [
        {
          "data": {
            "text/html": [
              "\n",
              "  <div id=\"df-7e08f177-97a4-405a-8464-0481460097b3\">\n",
              "    <div class=\"colab-df-container\">\n",
              "      <div>\n",
              "<style scoped>\n",
              "    .dataframe tbody tr th:only-of-type {\n",
              "        vertical-align: middle;\n",
              "    }\n",
              "\n",
              "    .dataframe tbody tr th {\n",
              "        vertical-align: top;\n",
              "    }\n",
              "\n",
              "    .dataframe thead th {\n",
              "        text-align: right;\n",
              "    }\n",
              "</style>\n",
              "<table border=\"1\" class=\"dataframe\">\n",
              "  <thead>\n",
              "    <tr style=\"text-align: right;\">\n",
              "      <th></th>\n",
              "      <th>Age</th>\n",
              "      <th>Gender</th>\n",
              "      <th>GGO</th>\n",
              "      <th>Consolidation</th>\n",
              "      <th>Crazy_paving</th>\n",
              "      <th>CT_severity</th>\n",
              "      <th>Survival</th>\n",
              "    </tr>\n",
              "  </thead>\n",
              "  <tbody>\n",
              "    <tr>\n",
              "      <th>count</th>\n",
              "      <td>111.000000</td>\n",
              "      <td>111.000000</td>\n",
              "      <td>111.000000</td>\n",
              "      <td>111.000000</td>\n",
              "      <td>111.000000</td>\n",
              "      <td>111.000000</td>\n",
              "      <td>111.000000</td>\n",
              "    </tr>\n",
              "    <tr>\n",
              "      <th>mean</th>\n",
              "      <td>52.666667</td>\n",
              "      <td>0.630631</td>\n",
              "      <td>0.981982</td>\n",
              "      <td>0.585586</td>\n",
              "      <td>0.135135</td>\n",
              "      <td>11.279279</td>\n",
              "      <td>0.198198</td>\n",
              "    </tr>\n",
              "    <tr>\n",
              "      <th>std</th>\n",
              "      <td>13.018402</td>\n",
              "      <td>0.484823</td>\n",
              "      <td>0.133620</td>\n",
              "      <td>0.494855</td>\n",
              "      <td>0.343418</td>\n",
              "      <td>4.686870</td>\n",
              "      <td>0.400450</td>\n",
              "    </tr>\n",
              "    <tr>\n",
              "      <th>min</th>\n",
              "      <td>27.000000</td>\n",
              "      <td>0.000000</td>\n",
              "      <td>0.000000</td>\n",
              "      <td>0.000000</td>\n",
              "      <td>0.000000</td>\n",
              "      <td>5.000000</td>\n",
              "      <td>0.000000</td>\n",
              "    </tr>\n",
              "    <tr>\n",
              "      <th>25%</th>\n",
              "      <td>41.000000</td>\n",
              "      <td>0.000000</td>\n",
              "      <td>1.000000</td>\n",
              "      <td>0.000000</td>\n",
              "      <td>0.000000</td>\n",
              "      <td>8.000000</td>\n",
              "      <td>0.000000</td>\n",
              "    </tr>\n",
              "    <tr>\n",
              "      <th>50%</th>\n",
              "      <td>53.000000</td>\n",
              "      <td>1.000000</td>\n",
              "      <td>1.000000</td>\n",
              "      <td>1.000000</td>\n",
              "      <td>0.000000</td>\n",
              "      <td>10.000000</td>\n",
              "      <td>0.000000</td>\n",
              "    </tr>\n",
              "    <tr>\n",
              "      <th>75%</th>\n",
              "      <td>63.000000</td>\n",
              "      <td>1.000000</td>\n",
              "      <td>1.000000</td>\n",
              "      <td>1.000000</td>\n",
              "      <td>0.000000</td>\n",
              "      <td>14.000000</td>\n",
              "      <td>0.000000</td>\n",
              "    </tr>\n",
              "    <tr>\n",
              "      <th>max</th>\n",
              "      <td>85.000000</td>\n",
              "      <td>1.000000</td>\n",
              "      <td>1.000000</td>\n",
              "      <td>1.000000</td>\n",
              "      <td>1.000000</td>\n",
              "      <td>24.000000</td>\n",
              "      <td>1.000000</td>\n",
              "    </tr>\n",
              "  </tbody>\n",
              "</table>\n",
              "</div>\n",
              "      <button class=\"colab-df-convert\" onclick=\"convertToInteractive('df-7e08f177-97a4-405a-8464-0481460097b3')\"\n",
              "              title=\"Convert this dataframe to an interactive table.\"\n",
              "              style=\"display:none;\">\n",
              "        \n",
              "  <svg xmlns=\"http://www.w3.org/2000/svg\" height=\"24px\"viewBox=\"0 0 24 24\"\n",
              "       width=\"24px\">\n",
              "    <path d=\"M0 0h24v24H0V0z\" fill=\"none\"/>\n",
              "    <path d=\"M18.56 5.44l.94 2.06.94-2.06 2.06-.94-2.06-.94-.94-2.06-.94 2.06-2.06.94zm-11 1L8.5 8.5l.94-2.06 2.06-.94-2.06-.94L8.5 2.5l-.94 2.06-2.06.94zm10 10l.94 2.06.94-2.06 2.06-.94-2.06-.94-.94-2.06-.94 2.06-2.06.94z\"/><path d=\"M17.41 7.96l-1.37-1.37c-.4-.4-.92-.59-1.43-.59-.52 0-1.04.2-1.43.59L10.3 9.45l-7.72 7.72c-.78.78-.78 2.05 0 2.83L4 21.41c.39.39.9.59 1.41.59.51 0 1.02-.2 1.41-.59l7.78-7.78 2.81-2.81c.8-.78.8-2.07 0-2.86zM5.41 20L4 18.59l7.72-7.72 1.47 1.35L5.41 20z\"/>\n",
              "  </svg>\n",
              "      </button>\n",
              "      \n",
              "  <style>\n",
              "    .colab-df-container {\n",
              "      display:flex;\n",
              "      flex-wrap:wrap;\n",
              "      gap: 12px;\n",
              "    }\n",
              "\n",
              "    .colab-df-convert {\n",
              "      background-color: #E8F0FE;\n",
              "      border: none;\n",
              "      border-radius: 50%;\n",
              "      cursor: pointer;\n",
              "      display: none;\n",
              "      fill: #1967D2;\n",
              "      height: 32px;\n",
              "      padding: 0 0 0 0;\n",
              "      width: 32px;\n",
              "    }\n",
              "\n",
              "    .colab-df-convert:hover {\n",
              "      background-color: #E2EBFA;\n",
              "      box-shadow: 0px 1px 2px rgba(60, 64, 67, 0.3), 0px 1px 3px 1px rgba(60, 64, 67, 0.15);\n",
              "      fill: #174EA6;\n",
              "    }\n",
              "\n",
              "    [theme=dark] .colab-df-convert {\n",
              "      background-color: #3B4455;\n",
              "      fill: #D2E3FC;\n",
              "    }\n",
              "\n",
              "    [theme=dark] .colab-df-convert:hover {\n",
              "      background-color: #434B5C;\n",
              "      box-shadow: 0px 1px 3px 1px rgba(0, 0, 0, 0.15);\n",
              "      filter: drop-shadow(0px 1px 2px rgba(0, 0, 0, 0.3));\n",
              "      fill: #FFFFFF;\n",
              "    }\n",
              "  </style>\n",
              "\n",
              "      <script>\n",
              "        const buttonEl =\n",
              "          document.querySelector('#df-7e08f177-97a4-405a-8464-0481460097b3 button.colab-df-convert');\n",
              "        buttonEl.style.display =\n",
              "          google.colab.kernel.accessAllowed ? 'block' : 'none';\n",
              "\n",
              "        async function convertToInteractive(key) {\n",
              "          const element = document.querySelector('#df-7e08f177-97a4-405a-8464-0481460097b3');\n",
              "          const dataTable =\n",
              "            await google.colab.kernel.invokeFunction('convertToInteractive',\n",
              "                                                     [key], {});\n",
              "          if (!dataTable) return;\n",
              "\n",
              "          const docLinkHtml = 'Like what you see? Visit the ' +\n",
              "            '<a target=\"_blank\" href=https://colab.research.google.com/notebooks/data_table.ipynb>data table notebook</a>'\n",
              "            + ' to learn more about interactive tables.';\n",
              "          element.innerHTML = '';\n",
              "          dataTable['output_type'] = 'display_data';\n",
              "          await google.colab.output.renderOutput(dataTable, element);\n",
              "          const docLink = document.createElement('div');\n",
              "          docLink.innerHTML = docLinkHtml;\n",
              "          element.appendChild(docLink);\n",
              "        }\n",
              "      </script>\n",
              "    </div>\n",
              "  </div>\n",
              "  "
            ],
            "text/plain": [
              "              Age      Gender         GGO  Consolidation  Crazy_paving  \\\n",
              "count  111.000000  111.000000  111.000000     111.000000    111.000000   \n",
              "mean    52.666667    0.630631    0.981982       0.585586      0.135135   \n",
              "std     13.018402    0.484823    0.133620       0.494855      0.343418   \n",
              "min     27.000000    0.000000    0.000000       0.000000      0.000000   \n",
              "25%     41.000000    0.000000    1.000000       0.000000      0.000000   \n",
              "50%     53.000000    1.000000    1.000000       1.000000      0.000000   \n",
              "75%     63.000000    1.000000    1.000000       1.000000      0.000000   \n",
              "max     85.000000    1.000000    1.000000       1.000000      1.000000   \n",
              "\n",
              "       CT_severity    Survival  \n",
              "count   111.000000  111.000000  \n",
              "mean     11.279279    0.198198  \n",
              "std       4.686870    0.400450  \n",
              "min       5.000000    0.000000  \n",
              "25%       8.000000    0.000000  \n",
              "50%      10.000000    0.000000  \n",
              "75%      14.000000    0.000000  \n",
              "max      24.000000    1.000000  "
            ]
          },
          "execution_count": 56,
          "metadata": {},
          "output_type": "execute_result"
        }
      ],
      "source": [
        "#it shows us the statistical data like mean, std\n",
        "df.describe()"
      ]
    },
    {
      "cell_type": "code",
      "execution_count": null,
      "metadata": {
        "colab": {
          "base_uri": "https://localhost:8080/"
        },
        "id": "67wH24LQUfz0",
        "outputId": "8df90abd-14e9-4cd8-f2f2-1830d3f3f3ad"
      },
      "outputs": [
        {
          "name": "stdout",
          "output_type": "stream",
          "text": [
            "<class 'pandas.core.frame.DataFrame'>\n",
            "RangeIndex: 111 entries, 0 to 110\n",
            "Data columns (total 7 columns):\n",
            " #   Column         Non-Null Count  Dtype\n",
            "---  ------         --------------  -----\n",
            " 0   Age            111 non-null    int64\n",
            " 1   Gender         111 non-null    int64\n",
            " 2   GGO            111 non-null    int64\n",
            " 3   Consolidation  111 non-null    int64\n",
            " 4   Crazy_paving   111 non-null    int64\n",
            " 5   CT_severity    111 non-null    int64\n",
            " 6   Survival       111 non-null    int64\n",
            "dtypes: int64(7)\n",
            "memory usage: 6.2 KB\n"
          ]
        }
      ],
      "source": [
        "#prints information about the dataset\n",
        "df.info()"
      ]
    },
    {
      "cell_type": "code",
      "execution_count": null,
      "metadata": {
        "colab": {
          "base_uri": "https://localhost:8080/",
          "height": 1000
        },
        "id": "vjxwJCnvUh-F",
        "outputId": "82a998ba-e638-4499-aeae-c2f392ef183c"
      },
      "outputs": [
        {
          "data": {
            "text/plain": [
              "<seaborn.axisgrid.PairGrid at 0x7f895839f790>"
            ]
          },
          "execution_count": 58,
          "metadata": {},
          "output_type": "execute_result"
        },
        {
          "data": {
            "image/png": "[encoded data removed]",
            "text/plain": [
              "<Figure size 1260x1260 with 56 Axes>"
            ]
          },
          "metadata": {
            "needs_background": "light"
          },
          "output_type": "display_data"
        }
      ],
      "source": [
        "#used to find the relationship between two variables\n",
        "sns.pairplot(df)"
      ]
    },
    {
      "cell_type": "code",
      "execution_count": null,
      "metadata": {
        "colab": {
          "base_uri": "https://localhost:8080/",
          "height": 327
        },
        "id": "8e9ZMWELVd7Z",
        "outputId": "3f00012f-e5d7-4c16-afee-389ba33e84e4"
      },
      "outputs": [
        {
          "data": {
            "image/png": "[encoded data removed]",
            "text/plain": [
              "<Figure size 432x288 with 2 Axes>"
            ]
          },
          "metadata": {
            "needs_background": "light"
          },
          "output_type": "display_data"
        }
      ],
      "source": [
        "#to find the collinearity of the data and help distinguish which rows or columns should or should not be included\n",
        "#helps to filter any dependent variables that are collinear.\n",
        "ax = sns.heatmap(df.corr(), annot=True)"
      ]
    },
    {
      "cell_type": "code",
      "execution_count": null,
      "metadata": {
        "id": "EAqxj_p4XKIQ"
      },
      "outputs": [],
      "source": [
        "#defining the independent and dependent variables\n",
        "x = df[[\"Age\", \"Gender\", \"GGO\", \"Consolidation\", \"Crazy_paving\"]]\n",
        "yr = df[[\"CT_severity\"]]\n",
        "yc = df[[\"Survival\"]]"
      ]
    },
    {
      "cell_type": "code",
      "execution_count": null,
      "metadata": {
        "id": "eJrW-YkJbkdR"
      },
      "outputs": [],
      "source": [
        "#to perform standardization\n",
        "#It transforms the data in such a manner that it has mean as 0 and standard deviation as 1. In short, it standardizes the data.\n",
        "scaler = StandardScaler()\n",
        "x = scaler.fit_transform(x)"
      ]
    },
    {
      "cell_type": "code",
      "execution_count": null,
      "metadata": {
        "id": "jsIk55b7cOsX"
      },
      "outputs": [],
      "source": [
        "#we split the data into train and test\n",
        "xr_train, xr_test, yr_train, yr_test = train_test_split(x, yr, test_size=0.2, random_state=42)\n",
        "xc_train, xc_test, yc_train, yc_test = train_test_split(x, yc, test_size=0.2, random_state=42)"
      ]
    },
    {
      "cell_type": "markdown",
      "metadata": {
        "id": "BFS7ZbXjdRj7"
      },
      "source": [
        "USING LOGISTIC REGRESSION\n"
      ]
    },
    {
      "cell_type": "code",
      "execution_count": null,
      "metadata": {
        "colab": {
          "base_uri": "https://localhost:8080/"
        },
        "id": "8tYo-U7BdQNy",
        "outputId": "9958fe18-8bb6-41c9-8ec5-a73aabea3f8c"
      },
      "outputs": [
        {
          "data": {
            "text/plain": [
              "LogisticRegression()"
            ]
          },
          "execution_count": 63,
          "metadata": {},
          "output_type": "execute_result"
        }
      ],
      "source": [
        "#defining the classifier\n",
        "lr = LogisticRegression()\n",
        "lr.fit(xc_train, yc_train)"
      ]
    },
    {
      "cell_type": "code",
      "execution_count": null,
      "metadata": {
        "colab": {
          "base_uri": "https://localhost:8080/"
        },
        "id": "a2t3VmEqdW2_",
        "outputId": "9697f2cd-abc4-4b94-ead9-3779598d1a90"
      },
      "outputs": [
        {
          "name": "stdout",
          "output_type": "stream",
          "text": [
            "Accuracy:  91.30434782608695\n",
            "Precision:  91.30434782608695\n",
            "Recall:  91.30434782608695\n",
            "F1 Score:  91.30434782608695\n",
            "Confusion_matrix: \n",
            "[[18  1]\n",
            " [ 1  3]]\n",
            "Classification Report:\n",
            "              precision    recall  f1-score   support\n",
            "\n",
            "           0       0.95      0.95      0.95        19\n",
            "           1       0.75      0.75      0.75         4\n",
            "\n",
            "    accuracy                           0.91        23\n",
            "   macro avg       0.85      0.85      0.85        23\n",
            "weighted avg       0.91      0.91      0.91        23\n",
            "\n"
          ]
        }
      ],
      "source": [
        "#calculating the accuracy,precision,recall,F1 score and confusion matrix\n",
        "accuracy = metrics.accuracy_score(yc_test, lr.predict(xc_test))\n",
        "precision = metrics.precision_score(yc_test, lr.predict(xc_test), average='weighted')\n",
        "recall = metrics.recall_score(yc_test, lr.predict(xc_test), average='weighted')\n",
        "f1score = metrics.f1_score(yc_test, lr.predict(xc_test), average='weighted')\n",
        "confusion_matrix = metrics.confusion_matrix(yc_test, lr.predict(xc_test))\n",
        "classification = metrics.classification_report(yc_test, lr.predict(xc_test))\n",
        "print(\"Accuracy: \", accuracy*100)\n",
        "print(\"Precision: \", precision*100)\n",
        "print(\"Recall: \", recall*100)\n",
        "print(\"F1 Score: \", f1score*100)\n",
        "print(\"Confusion_matrix: \")\n",
        "print(confusion_matrix)\n",
        "print(\"Classification Report:\")\n",
        "print(classification)"
      ]
    },
    {
      "cell_type": "markdown",
      "metadata": {
        "id": "andD8Zgjdlfw"
      },
      "source": [
        "USING KNN CLASSIFIER"
      ]
    },
    {
      "cell_type": "code",
      "execution_count": null,
      "metadata": {
        "colab": {
          "base_uri": "https://localhost:8080/",
          "height": 421
        },
        "id": "qmhvYvnhdYbP",
        "outputId": "6b998993-af0e-4215-d277-5d64a0bf1112"
      },
      "outputs": [
        {
          "data": {
            "text/plain": [
              "Text(0, 0.5, 'Accuracy')"
            ]
          },
          "execution_count": 65,
          "metadata": {},
          "output_type": "execute_result"
        },
        {
          "data": {
            "image/png": "[encoded data removed]",
            "text/plain": [
              "<Figure size 864x432 with 1 Axes>"
            ]
          },
          "metadata": {
            "needs_background": "light"
          },
          "output_type": "display_data"
        }
      ],
      "source": [
        "#plotting the graph for k value vs accuracy\n",
        "error = []\n",
        "for i in range(1, 40):\n",
        "  knn = KNeighborsClassifier(n_neighbors=i)\n",
        "  knn.fit(xc_train, yc_train)\n",
        "  pred_i = knn.predict(xc_test)\n",
        "  error.append(metrics.accuracy_score(yc_test,pred_i))\n",
        "plt.figure(figsize=(12, 6))\n",
        "plt.plot(range(1, 40), error, color='green', linestyle='dashed', marker='*',\n",
        "markerfacecolor='blue', markersize=10)\n",
        "plt.title('Accuracy K Value')\n",
        "plt.xlabel('K Value')\n",
        "plt.ylabel('Accuracy')"
      ]
    },
    {
      "cell_type": "code",
      "execution_count": null,
      "metadata": {
        "colab": {
          "base_uri": "https://localhost:8080/"
        },
        "id": "Qf54lGDvdplN",
        "outputId": "64deb50b-cf5a-4271-dc81-a516b63e95d5"
      },
      "outputs": [
        {
          "data": {
            "text/plain": [
              "KNeighborsClassifier(n_neighbors=7)"
            ]
          },
          "execution_count": 66,
          "metadata": {},
          "output_type": "execute_result"
        }
      ],
      "source": [
        "#defining the knn classifier model\n",
        "knn = KNeighborsClassifier(n_neighbors=7)\n",
        "knn.fit(xc_train, yc_train)"
      ]
    },
    {
      "cell_type": "code",
      "execution_count": null,
      "metadata": {
        "colab": {
          "base_uri": "https://localhost:8080/"
        },
        "id": "ih7qZuXOds30",
        "outputId": "81c4077d-dd46-446e-9cc3-c6d125f20f05"
      },
      "outputs": [
        {
          "name": "stdout",
          "output_type": "stream",
          "text": [
            "Accuracy:  91.30434782608695\n",
            "Precision:  91.30434782608695\n",
            "Recall:  91.30434782608695\n",
            "F1 Score:  91.30434782608695\n",
            "Confusion_matrix: \n",
            "[[18  1]\n",
            " [ 1  3]]\n",
            "Classification Report:\n",
            "              precision    recall  f1-score   support\n",
            "\n",
            "           0       0.95      0.95      0.95        19\n",
            "           1       0.75      0.75      0.75         4\n",
            "\n",
            "    accuracy                           0.91        23\n",
            "   macro avg       0.85      0.85      0.85        23\n",
            "weighted avg       0.91      0.91      0.91        23\n",
            "\n"
          ]
        }
      ],
      "source": [
        "#calculating the accuracy,precision,recall,F1 score and confusion matrix\n",
        "accuracy = metrics.accuracy_score(yc_test, knn.predict(xc_test))\n",
        "precision = metrics.precision_score(yc_test, knn.predict(xc_test), average='weighted')\n",
        "recall = metrics.recall_score(yc_test, knn.predict(xc_test), average='weighted')\n",
        "f1score = metrics.f1_score(yc_test, knn.predict(xc_test), average='weighted')\n",
        "confusion_matrix = metrics.confusion_matrix(yc_test, knn.predict(xc_test))\n",
        "classification = metrics.classification_report(yc_test, knn.predict(xc_test))\n",
        "print(\"Accuracy: \", accuracy*100)\n",
        "print(\"Precision: \", precision*100)\n",
        "print(\"Recall: \", recall*100)\n",
        "print(\"F1 Score: \", f1score*100)\n",
        "print(\"Confusion_matrix: \")\n",
        "print(confusion_matrix)\n",
        "print(\"Classification Report:\")\n",
        "print(classification)"
      ]
    },
    {
      "cell_type": "markdown",
      "metadata": {
        "id": "2VfDXZhEdu9w"
      },
      "source": [
        "USING GAUSSIAN CLASSIFIER"
      ]
    },
    {
      "cell_type": "code",
      "execution_count": null,
      "metadata": {
        "colab": {
          "base_uri": "https://localhost:8080/"
        },
        "id": "ptiLYs1fdxnN",
        "outputId": "894e72cd-32be-4acb-8a7c-37d21400d43f"
      },
      "outputs": [
        {
          "data": {
            "text/plain": [
              "GaussianNB()"
            ]
          },
          "execution_count": 68,
          "metadata": {},
          "output_type": "execute_result"
        }
      ],
      "source": [
        "#defining the gaussian model\n",
        "gnb = GaussianNB()\n",
        "gnb.fit(xc_train, yc_train)"
      ]
    },
    {
      "cell_type": "code",
      "execution_count": null,
      "metadata": {
        "colab": {
          "base_uri": "https://localhost:8080/"
        },
        "id": "6jGTE7oodzgk",
        "outputId": "a0cb2db6-ba6c-477d-89d4-d3d7c5740d86"
      },
      "outputs": [
        {
          "name": "stdout",
          "output_type": "stream",
          "text": [
            "Accuracy:  17.391304347826086\n",
            "Precision:  3.0245746691871456\n",
            "Recall:  17.391304347826086\n",
            "F1 Score:  5.152979066022545\n",
            "Confusion_matrix: \n",
            "[[ 0 19]\n",
            " [ 0  4]]\n",
            "Classification Report:\n",
            "              precision    recall  f1-score   support\n",
            "\n",
            "           0       0.00      0.00      0.00        19\n",
            "           1       0.17      1.00      0.30         4\n",
            "\n",
            "    accuracy                           0.17        23\n",
            "   macro avg       0.09      0.50      0.15        23\n",
            "weighted avg       0.03      0.17      0.05        23\n",
            "\n"
          ]
        }
      ],
      "source": [
        "#calculating the accuracy,precision,recall,F1 score and confusion matrix\n",
        "accuracy = metrics.accuracy_score(yc_test, gnb.predict(xc_test))\n",
        "precision = metrics.precision_score(yc_test, gnb.predict(xc_test), average='weighted')\n",
        "recall = metrics.recall_score(yc_test, gnb.predict(xc_test), average='weighted')\n",
        "f1score = metrics.f1_score(yc_test, gnb.predict(xc_test), average='weighted')\n",
        "confusion_matrix = metrics.confusion_matrix(yc_test, gnb.predict(xc_test))\n",
        "classification = metrics.classification_report(yc_test, gnb.predict(xc_test))\n",
        "print(\"Accuracy: \", accuracy*100)\n",
        "print(\"Precision: \", precision*100)\n",
        "print(\"Recall: \", recall*100)\n",
        "print(\"F1 Score: \", f1score*100)\n",
        "print(\"Confusion_matrix: \")\n",
        "print(confusion_matrix)\n",
        "print(\"Classification Report:\")\n",
        "print(classification)"
      ]
    },
    {
      "cell_type": "markdown",
      "metadata": {
        "id": "uFUMLLR7d1Nr"
      },
      "source": [
        "USING DECISION TREE CLASSIFIER"
      ]
    },
    {
      "cell_type": "code",
      "execution_count": null,
      "metadata": {
        "colab": {
          "base_uri": "https://localhost:8080/"
        },
        "id": "1th88bn_d3Zv",
        "outputId": "88587546-c093-4942-8766-b769b361ef9c"
      },
      "outputs": [
        {
          "data": {
            "text/plain": [
              "DecisionTreeClassifier()"
            ]
          },
          "execution_count": 70,
          "metadata": {},
          "output_type": "execute_result"
        }
      ],
      "source": [
        "#defining the decision tree classifier\n",
        "dt = DecisionTreeClassifier()\n",
        "dt.fit(xc_train, yc_train)"
      ]
    },
    {
      "cell_type": "code",
      "execution_count": null,
      "metadata": {
        "colab": {
          "base_uri": "https://localhost:8080/"
        },
        "id": "Jc3yfvuZd5ll",
        "outputId": "3a9caa5a-239d-43af-831a-57970d992465"
      },
      "outputs": [
        {
          "name": "stdout",
          "output_type": "stream",
          "text": [
            "Accuracy:  78.26086956521739\n",
            "Precision:  80.38647342995169\n",
            "Recall:  78.26086956521739\n",
            "F1 Score:  79.17482700091398\n",
            "Confusion_matrix: \n",
            "[[16  3]\n",
            " [ 2  2]]\n",
            "Classification Report:\n",
            "              precision    recall  f1-score   support\n",
            "\n",
            "           0       0.89      0.84      0.86        19\n",
            "           1       0.40      0.50      0.44         4\n",
            "\n",
            "    accuracy                           0.78        23\n",
            "   macro avg       0.64      0.67      0.65        23\n",
            "weighted avg       0.80      0.78      0.79        23\n",
            "\n"
          ]
        }
      ],
      "source": [
        "#calculating the accuracy,precision,recall,F1 score and confusion matrix\n",
        "accuracy = metrics.accuracy_score(yc_test, dt.predict(xc_test))\n",
        "precision = metrics.precision_score(yc_test, dt.predict(xc_test), average='weighted')\n",
        "recall = metrics.recall_score(yc_test, dt.predict(xc_test), average='weighted')\n",
        "f1score = metrics.f1_score(yc_test, dt.predict(xc_test), average='weighted')\n",
        "confusion_matrix = metrics.confusion_matrix(yc_test, dt.predict(xc_test))\n",
        "classification = metrics.classification_report(yc_test, dt.predict(xc_test))\n",
        "print(\"Accuracy: \", accuracy*100)\n",
        "print(\"Precision: \", precision*100)\n",
        "print(\"Recall: \", recall*100)\n",
        "print(\"F1 Score: \", f1score*100)\n",
        "print(\"Confusion_matrix: \")\n",
        "print(confusion_matrix)\n",
        "print(\"Classification Report:\")\n",
        "print(classification)"
      ]
    },
    {
      "cell_type": "markdown",
      "metadata": {
        "id": "glYBNbIBeNYX"
      },
      "source": [
        "USING LINEAR SUPPORT VECTOR CLASSIFIER"
      ]
    },
    {
      "cell_type": "code",
      "execution_count": null,
      "metadata": {
        "colab": {
          "base_uri": "https://localhost:8080/"
        },
        "id": "eT6UrbIveMwf",
        "outputId": "eb85e08a-06d4-4a79-aa58-a3e77ab7e692"
      },
      "outputs": [
        {
          "data": {
            "text/plain": [
              "SVC()"
            ]
          },
          "execution_count": 72,
          "metadata": {},
          "output_type": "execute_result"
        }
      ],
      "source": [
        "#defining the Linear support vector classifier\n",
        "svm = SVC()\n",
        "svm.fit(xc_train, yc_train)"
      ]
    },
    {
      "cell_type": "code",
      "execution_count": null,
      "metadata": {
        "colab": {
          "base_uri": "https://localhost:8080/"
        },
        "id": "haY0_VoUeSOM",
        "outputId": "2b31e181-4058-456c-c919-8b15d71cb183"
      },
      "outputs": [
        {
          "name": "stdout",
          "output_type": "stream",
          "text": [
            "Accuracy:  91.30434782608695\n",
            "Precision:  91.30434782608695\n",
            "Recall:  91.30434782608695\n",
            "F1 Score:  91.30434782608695\n",
            "Confusion_matrix: \n",
            "[[18  1]\n",
            " [ 1  3]]\n",
            "Classification Report:\n",
            "              precision    recall  f1-score   support\n",
            "\n",
            "           0       0.95      0.95      0.95        19\n",
            "           1       0.75      0.75      0.75         4\n",
            "\n",
            "    accuracy                           0.91        23\n",
            "   macro avg       0.85      0.85      0.85        23\n",
            "weighted avg       0.91      0.91      0.91        23\n",
            "\n"
          ]
        }
      ],
      "source": [
        "#defining the decision tree classifier\n",
        "accuracy = metrics.accuracy_score(yc_test, svm.predict(xc_test))\n",
        "precision = metrics.precision_score(yc_test, svm.predict(xc_test), average='weighted')\n",
        "recall = metrics.recall_score(yc_test, svm.predict(xc_test), average='weighted')\n",
        "f1score = metrics.f1_score(yc_test, svm.predict(xc_test), average='weighted')\n",
        "confusion_matrix = metrics.confusion_matrix(yc_test, svm.predict(xc_test))\n",
        "classification = metrics.classification_report(yc_test, svm.predict(xc_test))\n",
        "print(\"Accuracy: \", accuracy*100)\n",
        "print(\"Precision: \", precision*100)\n",
        "print(\"Recall: \", recall*100)\n",
        "print(\"F1 Score: \", f1score*100)\n",
        "print(\"Confusion_matrix: \")\n",
        "print(confusion_matrix)\n",
        "print(\"Classification Report:\")\n",
        "print(classification)"
      ]
    },
    {
      "cell_type": "markdown",
      "metadata": {
        "id": "sUPTlmF7hrsE"
      },
      "source": [
        "CONCLUSION: So we can see that on using Logistic Regression, KNN classifier and Support Vector Classifier, the model gives the highest accuracy ie 91.304 whereas on using Gaussian NB classifier the model gives the lowest accuracy  ie 17.391"
      ]
    }
  ],
  "metadata": {
    "colab": {
      "provenance": []
    },
    "kernelspec": {
      "display_name": "Python 3",
      "name": "python3"
    },
    "language_info": {
      "name": "python"
    }
  },
  "nbformat": 4,
  "nbformat_minor": 0
}
